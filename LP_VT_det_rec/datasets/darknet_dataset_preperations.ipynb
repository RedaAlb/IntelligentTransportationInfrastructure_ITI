{
 "cells": [
  {
   "cell_type": "code",
   "execution_count": 2,
   "metadata": {},
   "outputs": [],
   "source": [
    "from datasets_utils import DatasetsUtils\n",
    "\n",
    "data_utils = DatasetsUtils()"
   ]
  },
  {
   "cell_type": "code",
   "execution_count": 2,
   "metadata": {},
   "outputs": [
    {
     "name": "stdout",
     "output_type": "stream",
     "text": [
      "0 caltech_cars Done\n",
      "1 english_lp Done\n",
      "2 open_alpr_eu Done\n",
      "3 aolp Done\n",
      "This dataset is split into fixed train, test, and val sets, please provide an additional argument of\n",
      "subset=\"training|testing|validation\".\n",
      "4 ufpr_alpr Done\n"
     ]
    }
   ],
   "source": [
    "# Generating images of cropped vehicle patches and saving them alongside each image annotation file for all datasets.\n",
    "for i, dataset in enumerate(data_utils.datasets):\n",
    "    x = data_utils.generate_lp_det_data(i, \"vehicles_cropped\", darknet=True)\n",
    "    print(i, dataset, \"Done\")"
   ]
  },
  {
   "cell_type": "code",
   "execution_count": 3,
   "metadata": {},
   "outputs": [
    {
     "name": "stdout",
     "output_type": "stream",
     "text": [
      "caltech_cars dataset done, files saved:\n",
      "vehicles_cropped/train_caltech_cars.txt\n",
      "vehicles_cropped/val_caltech_cars.txt\n",
      "vehicles_cropped/test_caltech_cars.txt\n",
      "\n",
      "english_lp dataset done, files saved:\n",
      "vehicles_cropped/train_english_lp.txt\n",
      "vehicles_cropped/val_english_lp.txt\n",
      "vehicles_cropped/test_english_lp.txt\n",
      "\n",
      "open_alpr_eu dataset done, files saved:\n",
      "vehicles_cropped/train_open_alpr_eu.txt\n",
      "vehicles_cropped/val_open_alpr_eu.txt\n",
      "vehicles_cropped/test_open_alpr_eu.txt\n",
      "\n",
      "aolp dataset done, files saved:\n",
      "vehicles_cropped/train_aolp.txt\n",
      "vehicles_cropped/val_aolp.txt\n",
      "vehicles_cropped/test_aolp.txt\n",
      "\n",
      "ufpr_alpr dataset done, files saved:\n",
      "vehicles_cropped/test_ufpr_alpr.txt\n",
      "vehicles_cropped/train_ufpr_alpr.txt\n",
      "vehicles_cropped/val_ufpr_alpr.txt\n",
      "\n"
     ]
    }
   ],
   "source": [
    "# Splitting datasets into train, val, and test sets.\n",
    "for i, dataset in enumerate(data_utils.datasets):\n",
    "    data_utils.gen_dataset_split_files(i, \"vehicles_cropped\", \"../../../../../datasets/vehicles_cropped\", \"vehicles_cropped\")"
   ]
  },
  {
   "cell_type": "code",
   "execution_count": 4,
   "metadata": {},
   "outputs": [
    {
     "name": "stdout",
     "output_type": "stream",
     "text": [
      "All subsets combined successfully, files_saved:\n",
      "vehicles_cropped/all_train.txt\n",
      "vehicles_cropped/all_val.txt\n",
      "vehicles_cropped/all_test.txt\n"
     ]
    }
   ],
   "source": [
    "# Combining all train, val, test sets of all datasets into three big subsets.\n",
    "data_utils.combine_subsets(\"vehicles_cropped\")"
   ]
  }
 ],
 "metadata": {
  "kernelspec": {
   "display_name": "Python [conda env:tf_gpu] *",
   "language": "python",
   "name": "conda-env-tf_gpu-py"
  },
  "language_info": {
   "codemirror_mode": {
    "name": "ipython",
    "version": 3
   },
   "file_extension": ".py",
   "mimetype": "text/x-python",
   "name": "python",
   "nbconvert_exporter": "python",
   "pygments_lexer": "ipython3",
   "version": "3.7.7"
  },
  "varInspector": {
   "cols": {
    "lenName": 16,
    "lenType": 16,
    "lenVar": 40
   },
   "kernels_config": {
    "python": {
     "delete_cmd_postfix": "",
     "delete_cmd_prefix": "del ",
     "library": "var_list.py",
     "varRefreshCmd": "print(var_dic_list())"
    },
    "r": {
     "delete_cmd_postfix": ") ",
     "delete_cmd_prefix": "rm(",
     "library": "var_list.r",
     "varRefreshCmd": "cat(var_dic_list()) "
    }
   },
   "types_to_exclude": [
    "module",
    "function",
    "builtin_function_or_method",
    "instance",
    "_Feature"
   ],
   "window_display": false
  }
 },
 "nbformat": 4,
 "nbformat_minor": 4
}
