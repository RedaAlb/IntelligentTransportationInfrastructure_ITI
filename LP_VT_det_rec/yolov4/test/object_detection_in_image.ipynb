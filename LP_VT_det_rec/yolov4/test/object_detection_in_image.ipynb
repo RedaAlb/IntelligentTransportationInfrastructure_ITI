{
 "cells": [
  {
   "cell_type": "code",
   "execution_count": 1,
   "metadata": {},
   "outputs": [],
   "source": [
    "import cv2\n",
    "import numpy as np\n",
    "import tensorflow as tf\n",
    "\n",
    "physical_devices = tf.config.list_physical_devices('GPU')\n",
    "try:\n",
    "    tf.config.experimental.set_memory_growth(physical_devices[0], True)\n",
    "except:\n",
    "    pass\n",
    "\n",
    "import time\n",
    "from yolov4.tf import YOLOv4\n",
    "\n",
    "yolo = YOLOv4()\n",
    "yolo.classes = \"coco.names\"\n",
    "yolo.make_model()\n",
    "yolo.load_weights(\"../weights/yolov4.weights\", weights_type=\"yolo\")"
   ]
  },
  {
   "cell_type": "code",
   "execution_count": 2,
   "metadata": {},
   "outputs": [],
   "source": [
    "def pre_process(img):\n",
    "    resized_image = cv2.cvtColor(img, cv2.COLOR_BGR2RGB)\n",
    "    resized_image = yolo.resize_image(resized_image)\n",
    "    resized_image = resized_image / 255\n",
    "    input_data = resized_image[np.newaxis, ...].astype(np.float32)\n",
    "    \n",
    "    return input_data\n",
    "    "
   ]
  },
  {
   "cell_type": "code",
   "execution_count": 3,
   "metadata": {},
   "outputs": [],
   "source": [
    "# original_image == Dim(height, width, channels)\n",
    "original_image = cv2.imread(\"kite.jpg\")\n",
    "input_data = pre_process(original_image)"
   ]
  },
  {
   "cell_type": "markdown",
   "metadata": {},
   "source": [
    "# Saving/Loading model"
   ]
  },
  {
   "cell_type": "code",
   "execution_count": null,
   "metadata": {},
   "outputs": [],
   "source": [
    "# Saving model\n",
    "model = yolo.model\n",
    "save_path = ''\n",
    "tf.saved_model.save(model, save_path)"
   ]
  },
  {
   "cell_type": "code",
   "execution_count": 4,
   "metadata": {},
   "outputs": [
    {
     "name": "stdout",
     "output_type": "stream",
     "text": [
      "85.57219862937927\n"
     ]
    }
   ],
   "source": [
    "# Loading model\n",
    "save_path = ''\n",
    "st = time.time()\n",
    "imported = tf.saved_model.load(save_path)\n",
    "print(time.time() - st)\n",
    "tf_model = imported.signatures[\"serving_default\"]"
   ]
  },
  {
   "cell_type": "markdown",
   "metadata": {},
   "source": [
    "# Loaded prediction"
   ]
  },
  {
   "cell_type": "code",
   "execution_count": 124,
   "metadata": {},
   "outputs": [],
   "source": [
    "def loaded_predict(processed_img):\n",
    "    \n",
    "    ## load model if not already loaded.\n",
    "    \n",
    "    batch_data = tf.constant(processed_img)\n",
    "    \n",
    "    st = time.time()\n",
    "    candidates = tf_model(batch_data)\n",
    "#     print(time.time() - st)\n",
    "    \n",
    "#     st = time.time()\n",
    "    candidates = (candidates[\"output_1\"].numpy(), candidates[\"output_2\"].numpy(), candidates[\"output_3\"].numpy())\n",
    "#     print(time.time() - st)\n",
    "    \n",
    "    return candidates"
   ]
  },
  {
   "cell_type": "code",
   "execution_count": 118,
   "metadata": {},
   "outputs": [
    {
     "name": "stdout",
     "output_type": "stream",
     "text": [
      "0.09275197982788086\n"
     ]
    }
   ],
   "source": [
    "candidates = loaded_predict(input_data)"
   ]
  },
  {
   "cell_type": "markdown",
   "metadata": {},
   "source": [
    "# Original way prediction"
   ]
  },
  {
   "cell_type": "code",
   "execution_count": 121,
   "metadata": {
    "tags": []
   },
   "outputs": [
    {
     "name": "stdout",
     "output_type": "stream",
     "text": [
      "0.11768507957458496\n"
     ]
    }
   ],
   "source": [
    "start_time = time.time()\n",
    "candidates = yolo.model.predict(input_data)\n",
    "print(time.time() - start_time)\n"
   ]
  },
  {
   "cell_type": "markdown",
   "metadata": {},
   "source": [
    "# Post-processing"
   ]
  },
  {
   "cell_type": "code",
   "execution_count": null,
   "metadata": {},
   "outputs": [],
   "source": [
    "start_time = time.time()\n",
    "_candidates = []\n",
    "for candidate in candidates:\n",
    "    batch_size = candidate.shape[0]\n",
    "    grid_size = candidate.shape[1]\n",
    "    _candidates.append(\n",
    "        tf.reshape(\n",
    "            candidate, shape=(1, grid_size * grid_size * 3, -1)\n",
    "        )\n",
    "    )\n",
    "# candidates == Dim(batch, candidates, (bbox))\n",
    "candidates = np.concatenate(_candidates, axis=1)\n",
    "\n",
    "# pred_bboxes == Dim(candidates, (x, y, w, h, class_id, prob))\n",
    "pred_bboxes = yolo.candidates_to_pred_bboxes(candidates[0], 0.3, 0.25)\n",
    "pred_bboxes = yolo.fit_pred_bboxes_to_original(\n",
    "    pred_bboxes, original_image.shape\n",
    ")\n",
    "exec_time = time.time() - start_time\n",
    "print(\"time: {:.2f} ms\".format(exec_time * 1000))"
   ]
  },
  {
   "cell_type": "code",
   "execution_count": null,
   "metadata": {},
   "outputs": [],
   "source": [
    "result = yolo.draw_bboxes(original_image, pred_bboxes)\n",
    "cv2.imwrite(\"result.jpg\", result) \n",
    "from IPython.display import Image\n",
    "Image(\"result.jpg\")"
   ]
  },
  {
   "cell_type": "code",
   "execution_count": 122,
   "metadata": {},
   "outputs": [],
   "source": [
    "def add_BBs(img, candidates):\n",
    "    start_time = time.time()\n",
    "    _candidates = []\n",
    "    for candidate in candidates:\n",
    "        batch_size = candidate.shape[0]\n",
    "        grid_size = candidate.shape[1]\n",
    "        _candidates.append(\n",
    "            tf.reshape(\n",
    "                candidate, shape=(1, grid_size * grid_size * 3, -1)\n",
    "            )\n",
    "        )\n",
    "    # candidates == Dim(batch, candidates, (bbox))\n",
    "    candidates = np.concatenate(_candidates, axis=1)\n",
    "\n",
    "    # pred_bboxes == Dim(candidates, (x, y, w, h, class_id, prob))\n",
    "    pred_bboxes = yolo.candidates_to_pred_bboxes(candidates[0], 0.3, 0.25)\n",
    "    pred_bboxes = yolo.fit_pred_bboxes_to_original(\n",
    "        pred_bboxes, img.shape\n",
    "    )\n",
    "    exec_time = time.time() - start_time\n",
    "#     print(\"time: {:.2f} ms\".format(exec_time * 1000))\n",
    "\n",
    "    result = yolo.draw_bboxes(img, pred_bboxes)\n",
    "    \n",
    "    return result\n",
    "    \n",
    "    "
   ]
  },
  {
   "cell_type": "markdown",
   "metadata": {},
   "source": [
    "# Video test "
   ]
  },
  {
   "cell_type": "code",
   "execution_count": 126,
   "metadata": {},
   "outputs": [],
   "source": [
    "cap = cv2.VideoCapture(0)\n",
    "\n",
    "fps = 5\n",
    "cap.set(cv2.CAP_PROP_POS_FRAMES, fps)\n",
    "\n",
    "while True:\n",
    "    ret, frame = cap.read()\n",
    "    input_data = pre_process(frame)\n",
    "    \n",
    "    st = time.time()\n",
    "    candidates = yolo.model.predict(input_data)\n",
    "#     candidates = loaded_predict(input_data)\n",
    "    st = time.time()\n",
    "    frame = add_BBs(frame, candidates)\n",
    "    \n",
    "    delay = round(time.time() - st, 4)\n",
    "    \n",
    "    \n",
    "    cv2.putText(frame, str(delay), (40,40), 1, 2, (0, 0, 255), 3)\n",
    "    cv2.imshow(\"frame\", frame)\n",
    "    \n",
    "    if cv2.waitKey(1) == ord('q'):\n",
    "        break\n",
    "cap.release()\n",
    "cv2.destroyAllWindows()"
   ]
  },
  {
   "cell_type": "code",
   "execution_count": null,
   "metadata": {},
   "outputs": [],
   "source": [
    "x = [1, 2, 3 ,4]"
   ]
  },
  {
   "cell_type": "code",
   "execution_count": null,
   "metadata": {},
   "outputs": [],
   "source": [
    "sum(x) / len(x)"
   ]
  },
  {
   "cell_type": "code",
   "execution_count": null,
   "metadata": {},
   "outputs": [],
   "source": []
  }
 ],
 "metadata": {
  "kernelspec": {
   "display_name": "Python [conda env:tf_gpu] *",
   "language": "python",
   "name": "conda-env-tf_gpu-py"
  },
  "language_info": {
   "codemirror_mode": {
    "name": "ipython",
    "version": 3
   },
   "file_extension": ".py",
   "mimetype": "text/x-python",
   "name": "python",
   "nbconvert_exporter": "python",
   "pygments_lexer": "ipython3",
   "version": "3.7.7"
  },
  "varInspector": {
   "cols": {
    "lenName": 16,
    "lenType": 16,
    "lenVar": 40
   },
   "kernels_config": {
    "python": {
     "delete_cmd_postfix": "",
     "delete_cmd_prefix": "del ",
     "library": "var_list.py",
     "varRefreshCmd": "print(var_dic_list())"
    },
    "r": {
     "delete_cmd_postfix": ") ",
     "delete_cmd_prefix": "rm(",
     "library": "var_list.r",
     "varRefreshCmd": "cat(var_dic_list()) "
    }
   },
   "position": {
    "height": "780px",
    "left": "1548px",
    "right": "20px",
    "top": "120px",
    "width": "350px"
   },
   "types_to_exclude": [
    "module",
    "function",
    "builtin_function_or_method",
    "instance",
    "_Feature"
   ],
   "window_display": false
  }
 },
 "nbformat": 4,
 "nbformat_minor": 2
}
