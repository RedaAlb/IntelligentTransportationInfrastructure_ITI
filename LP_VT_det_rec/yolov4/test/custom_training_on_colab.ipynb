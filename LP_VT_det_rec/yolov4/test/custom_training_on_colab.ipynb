{
  "cells": [
    {
      "cell_type": "markdown",
      "metadata": {},
      "source": [
        "- 2020-08-10\n",
        "- Google Colab\n",
        "- TF: 2.3.0\n",
        "- yolov4: 1.1.0"
      ]
    },
    {
      "cell_type": "code",
      "metadata": {
        "id": "BxYhSenB3CjE",
        "colab_type": "code",
        "colab": {}
      },
      "source": [
        "!python3 -m pip install yolov4"
      ],
      "execution_count": null,
      "outputs": []
    },
    {
      "cell_type": "code",
      "metadata": {
        "id": "xVDBYGK16rh6",
        "colab_type": "code",
        "colab": {}
      },
      "source": [
        "!unzip /content/drive/My\\ Drive/Hard_Soft/NN/coco/train2017.zip\n",
        "!unzip /content/drive/My\\ Drive/Hard_Soft/NN/coco/val2017.zip"
      ],
      "execution_count": null,
      "outputs": []
    },
    {
      "cell_type": "code",
      "metadata": {
        "id": "BlyUP53q7Rgi",
        "colab_type": "code",
        "colab": {},
        "tags": []
      },
      "source": [
        "from tensorflow.keras import callbacks, optimizers\n",
        "from py_src.yolov4.tf import SaveWeightsCallback, YOLOv4\n",
        "\n",
        "yolo = YOLOv4(tiny=True)\n",
        "\n",
        "yolo.classes = \"/content/drive/My Drive/Hard_Soft/NN/coco/coco.names\"\n",
        "\n",
        "yolo.input_size = 608\n",
        "yolo.batch_size = 32\n",
        "\n",
        "train_data_set = yolo.load_dataset(\n",
        "    \"/content/drive/My Drive/Hard_Soft/NN/coco/train2017.txt\",\n",
        "    image_path_prefix=\"/content/train2017\",\n",
        ")\n",
        "val_data_set = yolo.load_dataset(\n",
        "    \"/content/drive/My Drive/Hard_Soft/NN/coco/val2017.txt\",\n",
        "    image_path_prefix=\"/content/val2017\",\n",
        "    training=False,\n",
        ")\n",
        "\n",
        "yolo.make_model(activation1=\"relu\")\n",
        "yolo.load_weights(\n",
        "    \"/content/drive/My Drive/Hard_Soft/NN/trained/yolov4-tiny.conv.29\",\n",
        "    weights_type=\"yolo\",\n",
        ")\n",
        "\n",
        "epochs = 80\n",
        "lr = 0.0025\n",
        "\n",
        "optimizer = optimizers.Adam(learning_rate=lr)\n",
        "yolo.compile(optimizer=optimizer, loss_iou_type=\"ciou\")\n",
        "\n",
        "\n",
        "def lr_scheduler(epoch):\n",
        "    if epoch < int(epochs * 0.8):\n",
        "        return lr\n",
        "    elif epoch < int(epochs * 0.9):\n",
        "        return lr * 0.1\n",
        "    else:\n",
        "        return lr * 0.01\n",
        "\n",
        "\n",
        "yolo.fit(\n",
        "    train_data_set,\n",
        "    epochs=epochs,\n",
        "    callbacks=[\n",
        "        callbacks.LearningRateScheduler(lr_scheduler),\n",
        "        callbacks.TerminateOnNaN(),\n",
        "        callbacks.TensorBoard(\n",
        "            histogram_freq=1,\n",
        "            log_dir=\"/content/drive/My Drive/Hard_Soft/NN/logs\",\n",
        "        ),\n",
        "        SaveWeightsCallback(\n",
        "            yolo=yolo,\n",
        "            dir_path=\"/content/drive/My Drive/Hard_Soft/NN/trained\",\n",
        "            weights_type=\"yolo\",\n",
        "            epoch_per_save=1,\n",
        "        ),\n",
        "    ],\n",
        "    validation_data=val_data_set,\n",
        "    validation_steps=20,\n",
        "    steps_per_epoch=1000,\n",
        ")"
      ],
      "execution_count": null,
      "outputs": []
    },
    {
      "cell_type": "code",
      "metadata": {
        "id": "kQ3wIdnvqDNe",
        "colab_type": "code",
        "colab": {},
        "tags": []
      },
      "source": [
        "import cv2\n",
        "from google.colab.patches import cv2_imshow\n",
        "import time\n",
        "\n",
        "frame = cv2.imread(val_data_set.dataset[0])\n",
        "frame = cv2.cvtColor(frame, cv2.COLOR_BGR2RGB)\n",
        "\n",
        "start_time = time.time()\n",
        "bboxes = yolo.predict(frame)\n",
        "exec_time = time.time() - start_time\n",
        "print(\"time: {:.2f} ms\".format(exec_time * 1000))\n",
        "\n",
        "frame = cv2.cvtColor(frame, cv2.COLOR_RGB2BGR)\n",
        "image = yolo.draw_bboxes(frame, bboxes)\n",
        "cv2_imshow(image)"
      ],
      "execution_count": null,
      "outputs": []
    },
    {
      "cell_type": "code",
      "metadata": {
        "id": "-h1FyGknscmX",
        "colab_type": "code",
        "colab": {}
      },
      "source": [
        "%load_ext tensorboard"
      ],
      "execution_count": null,
      "outputs": []
    },
    {
      "cell_type": "code",
      "execution_count": null,
      "metadata": {},
      "outputs": [],
      "source": [
        "%tensorboard --logdir /content/drive/My\\ Drive/Hard_Soft/NN/logs"
      ]
    }
  ],
  "metadata": {
    "colab": {
      "name": "YOLOv4_hole.ipynb",
      "provenance": [],
      "private_outputs": true,
      "collapsed_sections": []
    },
    "kernelspec": {
      "name": "python3",
      "display_name": "Python 3"
    },
    "accelerator": "GPU"
  },
  "nbformat": 4,
  "nbformat_minor": 0
}