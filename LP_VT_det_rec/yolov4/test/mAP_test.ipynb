{
 "cells": [
  {
   "cell_type": "markdown",
   "metadata": {},
   "source": [
    "- 2020-08-10\n",
    "- OS: Windows 10\n",
    "- TF: 2.3.0\n",
    "- yolov4: 1.1.0\n",
    "- mAP: https://github.com/Cartucho/mAP\n",
    "  - `--no-animation`\n",
    "  - `--no-plot`\n",
    "  - `--quiet`"
   ]
  },
  {
   "cell_type": "code",
   "execution_count": 1,
   "metadata": {},
   "outputs": [],
   "source": [
    "from yolov4.tf import YOLOv4\n",
    "\n",
    "yolo = YOLOv4()\n",
    "\n",
    "yolo.classes = \"coco.names\"\n",
    "\n",
    "yolo.make_model()\n",
    "yolo.load_weights(\"../weights/yolov4.weights\", weights_type=\"yolo\")\n",
    "\n",
    "dataset = yolo.load_dataset(\n",
    "    \"dataset/val2017.txt\", training=False, image_path_prefix=\"dataset/val2017\"\n",
    ")\n",
    "\n",
    "yolo.save_dataset_for_mAP(\"C:/Users/Reda/Desktop/mAP\", dataset, 1500)"
   ]
  },
  {
   "cell_type": "code",
   "execution_count": 2,
   "metadata": {
    "tags": []
   },
   "outputs": [
    {
     "name": "stdout",
     "output_type": "stream",
     "text": [
      "C:\\Users\\Reda\\Desktop\\mAP\n"
     ]
    }
   ],
   "source": [
    "%cd C:/Users/Reda/Desktop/mAP"
   ]
  },
  {
   "cell_type": "code",
   "execution_count": 4,
   "metadata": {
    "tags": []
   },
   "outputs": [
    {
     "name": "stdout",
     "output_type": "stream",
     "text": [
      "80.06% = aeroplane AP \n",
      "38.11% = apple AP \n",
      "33.99% = backpack AP \n",
      "44.03% = banana AP \n",
      "68.32% = baseball_bat AP \n",
      "60.48% = baseball_glove AP \n",
      "95.25% = bear AP \n",
      "54.52% = bed AP \n",
      "40.90% = bench AP \n",
      "52.49% = bicycle AP \n",
      "48.84% = bird AP \n",
      "49.18% = boat AP \n",
      "26.87% = book AP \n",
      "54.41% = bottle AP \n",
      "61.58% = bowl AP \n",
      "35.43% = broccoli AP \n",
      "77.40% = bus AP \n",
      "61.10% = cake AP \n",
      "58.69% = car AP \n",
      "38.07% = carrot AP \n",
      "82.92% = cat AP \n",
      "55.57% = cell_phone AP \n",
      "46.49% = chair AP \n",
      "73.91% = clock AP \n",
      "67.46% = cow AP \n",
      "65.92% = cup AP \n",
      "28.37% = dining_table AP \n",
      "83.66% = dog AP \n",
      "80.57% = donut AP \n",
      "87.94% = elephant AP \n",
      "83.33% = fire_hydrant AP \n",
      "44.31% = fork AP \n",
      "86.16% = frisbee AP \n",
      "80.08% = giraffe AP \n",
      "33.44% = handbag AP \n",
      "76.80% = horse AP \n",
      "67.95% = hot_dog AP \n",
      "61.00% = keyboard AP \n",
      "64.71% = kite AP \n",
      "41.03% = knife AP \n",
      "81.44% = laptop AP \n",
      "83.33% = microwave AP \n",
      "69.49% = motorbike AP \n",
      "84.04% = mouse AP \n",
      "46.17% = orange AP \n",
      "43.73% = oven AP \n",
      "82.95% = parking_meter AP \n",
      "70.73% = person AP \n",
      "71.76% = pizza AP \n",
      "56.63% = potted_plant AP \n",
      "67.76% = refrigerator AP \n",
      "53.26% = remote AP \n",
      "49.16% = sandwich AP \n",
      "22.22% = scissors AP \n",
      "77.54% = sheep AP \n",
      "62.56% = sink AP \n",
      "85.15% = skateboard AP \n",
      "52.87% = skis AP \n",
      "84.76% = snowboard AP \n",
      "50.37% = sofa AP \n",
      "26.60% = spoon AP \n",
      "77.00% = sports_ball AP \n",
      "94.74% = stop_sign AP \n",
      "67.55% = suitcase AP \n",
      "73.27% = surfboard AP \n",
      "70.95% = teddy_bear AP \n",
      "89.50% = tennis_racket AP \n",
      "52.58% = tie AP \n",
      "50.00% = toaster AP \n",
      "82.74% = toilet AP \n",
      "56.55% = toothbrush AP \n",
      "51.28% = traffic_light AP \n",
      "69.76% = train AP \n",
      "44.91% = truck AP \n",
      "80.90% = tvmonitor AP \n",
      "53.16% = umbrella AP \n",
      "61.06% = vase AP \n",
      "54.03% = wine_glass AP \n",
      "86.15% = zebra AP \n",
      "mAP = 62.41%\n",
      "Figure(640x1659)\n"
     ]
    }
   ],
   "source": [
    "!python main.py --no-animation"
   ]
  }
 ],
 "metadata": {
  "kernelspec": {
   "display_name": "Python [conda env:tf_gpu] *",
   "language": "python",
   "name": "conda-env-tf_gpu-py"
  },
  "language_info": {
   "codemirror_mode": {
    "name": "ipython",
    "version": 3
   },
   "file_extension": ".py",
   "mimetype": "text/x-python",
   "name": "python",
   "nbconvert_exporter": "python",
   "pygments_lexer": "ipython3",
   "version": "3.7.7"
  },
  "varInspector": {
   "cols": {
    "lenName": 16,
    "lenType": 16,
    "lenVar": 40
   },
   "kernels_config": {
    "python": {
     "delete_cmd_postfix": "",
     "delete_cmd_prefix": "del ",
     "library": "var_list.py",
     "varRefreshCmd": "print(var_dic_list())"
    },
    "r": {
     "delete_cmd_postfix": ") ",
     "delete_cmd_prefix": "rm(",
     "library": "var_list.r",
     "varRefreshCmd": "cat(var_dic_list()) "
    }
   },
   "types_to_exclude": [
    "module",
    "function",
    "builtin_function_or_method",
    "instance",
    "_Feature"
   ],
   "window_display": false
  }
 },
 "nbformat": 4,
 "nbformat_minor": 2
}
