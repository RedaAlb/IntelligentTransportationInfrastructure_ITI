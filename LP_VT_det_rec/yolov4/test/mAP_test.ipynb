{
 "metadata": {
  "language_info": {
   "codemirror_mode": {
    "name": "ipython",
    "version": 3
   },
   "file_extension": ".py",
   "mimetype": "text/x-python",
   "name": "python",
   "nbconvert_exporter": "python",
   "pygments_lexer": "ipython3",
   "version": 3
  },
  "orig_nbformat": 2,
  "kernelspec": {
   "name": "python_defaultSpec_1597051351521",
   "display_name": "Python 3.7.8 64-bit ('venv': venv)"
  }
 },
 "nbformat": 4,
 "nbformat_minor": 2,
 "cells": [
  {
   "cell_type": "markdown",
   "metadata": {},
   "source": [
    "- 2020-08-10\n",
    "- OS: Windows 10\n",
    "- TF: 2.3.0\n",
    "- yolov4: 1.1.0\n",
    "- mAP: https://github.com/Cartucho/mAP\n",
    "  - `--no-animation`\n",
    "  - `--no-plot`\n",
    "  - `--quiet`"
   ]
  },
  {
   "cell_type": "code",
   "execution_count": 1,
   "metadata": {},
   "outputs": [],
   "source": [
    "from yolov4.tf import YOLOv4\n",
    "\n",
    "yolo = YOLOv4()\n",
    "\n",
    "yolo.classes = \"dataset/coco.names\"\n",
    "\n",
    "yolo.make_model()\n",
    "yolo.load_weights(\"yolov4.weights\", weights_type=\"yolo\")\n",
    "\n",
    "dataset = yolo.load_dataset(\n",
    "    \"dataset/val2017.txt\", training=False, image_path_prefix=\"D:/coco/val2017\"\n",
    ")\n",
    "\n",
    "yolo.save_dataset_for_mAP(\"C:/Users/windows/Desktop/mAP\", dataset, 1500)"
   ]
  },
  {
   "cell_type": "code",
   "execution_count": 2,
   "metadata": {
    "tags": []
   },
   "outputs": [
    {
     "output_type": "stream",
     "name": "stdout",
     "text": "C:\\Users\\windows\\Desktop\\mAP\n"
    }
   ],
   "source": [
    "%cd C:/Users/windows/Desktop/mAP"
   ]
  },
  {
   "cell_type": "code",
   "execution_count": 3,
   "metadata": {
    "tags": []
   },
   "outputs": [
    {
     "output_type": "stream",
     "name": "stdout",
     "text": "80.06% = aeroplane AP \n38.11% = apple AP \n33.99% = backpack AP \n44.03% = banana AP \n68.32% = baseball_bat AP \n60.48% = baseball_glove AP \n95.25% = bear AP \n54.52% = bed AP \n40.90% = bench AP \n52.49% = bicycle AP \n48.84% = bird AP \n49.18% = boat AP \n26.87% = book AP \n54.41% = bottle AP \n61.58% = bowl AP \n35.43% = broccoli AP \n77.40% = bus AP \n61.10% = cake AP \n58.69% = car AP \n38.07% = carrot AP \n82.92% = cat AP \n55.57% = cell_phone AP \n46.49% = chair AP \n73.91% = clock AP \n67.46% = cow AP \n65.92% = cup AP \n28.37% = dining_table AP \n83.66% = dog AP \n80.57% = donut AP \n87.94% = elephant AP \n83.33% = fire_hydrant AP \n44.31% = fork AP \n86.16% = frisbee AP \n80.08% = giraffe AP \n33.44% = handbag AP \n76.80% = horse AP \n67.95% = hot_dog AP \n61.00% = keyboard AP \n64.71% = kite AP \n41.03% = knife AP \n81.44% = laptop AP \n83.33% = microwave AP \n69.49% = motorbike AP \n84.04% = mouse AP \n46.17% = orange AP \n43.73% = oven AP \n82.95% = parking_meter AP \n70.73% = person AP \n71.76% = pizza AP \n56.63% = potted_plant AP \n67.76% = refrigerator AP \n53.26% = remote AP \n49.16% = sandwich AP \n22.22% = scissors AP \n77.54% = sheep AP \n62.56% = sink AP \n85.15% = skateboard AP \n52.87% = skis AP \n84.76% = snowboard AP \n50.37% = sofa AP \n26.60% = spoon AP \n77.00% = sports_ball AP \n94.74% = stop_sign AP \n67.55% = suitcase AP \n73.27% = surfboard AP \n70.95% = teddy_bear AP \n89.50% = tennis_racket AP \n52.58% = tie AP \n50.00% = toaster AP \n82.74% = toilet AP \n56.55% = toothbrush AP \n51.28% = traffic_light AP \n69.76% = train AP \n44.91% = truck AP \n80.90% = tvmonitor AP \n53.16% = umbrella AP \n61.06% = vase AP \n54.03% = wine_glass AP \n86.15% = zebra AP \nmAP = 62.41%\nFigure(640x1659)\n"
    }
   ],
   "source": [
    "!python main.py"
   ]
  }
 ]
}