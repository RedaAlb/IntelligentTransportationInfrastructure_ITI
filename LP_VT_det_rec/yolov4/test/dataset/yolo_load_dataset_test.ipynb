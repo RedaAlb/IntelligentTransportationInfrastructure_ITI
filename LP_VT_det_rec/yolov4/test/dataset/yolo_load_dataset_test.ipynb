{
 "cells": [
  {
   "cell_type": "markdown",
   "metadata": {},
   "source": [
    "- 2020-08-10\n",
    "- OS: Windows 10\n",
    "- yolov4: 1.1.0"
   ]
  },
  {
   "cell_type": "code",
   "execution_count": 1,
   "metadata": {},
   "outputs": [],
   "source": [
    "from yolov4.tf import YOLOv4\n",
    "\n",
    "yolo = YOLOv4()\n",
    "\n",
    "yolo.classes = \"coco.names\"\n",
    "\n",
    "yolo.input_size = 608\n",
    "yolo.batch_size = 2"
   ]
  },
  {
   "cell_type": "code",
   "execution_count": 2,
   "metadata": {
    "tags": []
   },
   "outputs": [
    {
     "output_type": "stream",
     "name": "stdout",
     "text": "3.732321262359619\n"
    }
   ],
   "source": [
    "import time\n",
    "\n",
    "start_t = time.time()\n",
    "dataset = yolo.load_dataset(\"train2017.txt\", image_path_prefix=\"D:/coco/train2017\")\n",
    "print(time.time() - start_t)"
   ]
  },
  {
   "cell_type": "code",
   "execution_count": 3,
   "metadata": {
    "tags": []
   },
   "outputs": [],
   "source": [
    "import tensorflow as tf\n",
    "import numpy as np\n",
    "import cv2\n",
    "\n",
    "for i, (images, gt) in enumerate(dataset):\n",
    "    for j in range(len(images)):\n",
    "        _candidates = []\n",
    "        for candidate in gt:\n",
    "            grid_size = candidate.shape[1]\n",
    "            _candidates.append(\n",
    "                tf.reshape(candidate[j], shape=(1, grid_size * grid_size * 3, -1))\n",
    "            )\n",
    "        candidates = np.concatenate(_candidates, axis=1)\n",
    "\n",
    "        frame = images[j, ...] * 255\n",
    "        frame = frame.astype(np.uint8)\n",
    "\n",
    "        pred_bboxes = yolo.candidates_to_pred_bboxes(candidates[0])\n",
    "        pred_bboxes = yolo.fit_pred_bboxes_to_original(pred_bboxes, frame.shape)\n",
    "        frame = cv2.cvtColor(frame, cv2.COLOR_RGB2BGR)\n",
    "        image = yolo.draw_bboxes(frame, pred_bboxes)\n",
    "        cv2.namedWindow(\"result\", cv2.WINDOW_AUTOSIZE)\n",
    "        cv2.imshow(\"result\", image)\n",
    "        while cv2.waitKey(10) & 0xFF != ord(\"q\"):\n",
    "            pass\n",
    "    if i == 10:\n",
    "        break\n",
    "\n",
    "cv2.destroyWindow(\"result\")"
   ]
  }
 ],
 "metadata": {
  "language_info": {
   "codemirror_mode": {
    "name": "ipython",
    "version": 3
   },
   "file_extension": ".py",
   "mimetype": "text/x-python",
   "name": "python",
   "nbconvert_exporter": "python",
   "pygments_lexer": "ipython3",
   "version": 3
  },
  "orig_nbformat": 2,
  "kernelspec": {
   "name": "python_defaultSpec_1597045698335",
   "display_name": "Python 3.6.9 64-bit"
  }
 },
 "nbformat": 4,
 "nbformat_minor": 2
}