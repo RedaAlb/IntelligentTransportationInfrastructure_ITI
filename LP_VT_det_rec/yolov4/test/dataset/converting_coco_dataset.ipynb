{
 "cells": [
  {
   "cell_type": "markdown",
   "metadata": {},
   "source": [
    "- 2020-08-10\n",
    "- OS: Windows 10"
   ]
  },
  {
   "cell_type": "markdown",
   "metadata": {},
   "source": [
    "coco\n",
    "- info\n",
    "  - description\n",
    "  - url\n",
    "  - version\n",
    "  - year\n",
    "  - contributor\n",
    "  - data_created\n",
    "- licenses(list)\n",
    "  - url\n",
    "  - id\n",
    "  - name\n",
    "- images(list)\n",
    "  - license\n",
    "  - file_name\n",
    "  - coco_url\n",
    "  - height\n",
    "  - width\n",
    "  - date_captured\n",
    "  - flickr_url\n",
    "  - id\n",
    "- annotations(list)\n",
    "  - segmentation\n",
    "  - area\n",
    "  - iscrowd\n",
    "  - image_id\n",
    "  - bbox: \\[xmin, ymin, width, height\\]\n",
    "  - category_id\n",
    "  - id\n",
    "- categories(list)\n",
    "  - supercategory\n",
    "  - id\n",
    "  - name"
   ]
  },
  {
   "cell_type": "code",
   "execution_count": 1,
   "metadata": {},
   "outputs": [],
   "source": [
    "instances_path = \"instances_train2017.json\"\n",
    "names_path = \"coco.names\"\n",
    "output_file_path = \"train2017.txt\""
   ]
  },
  {
   "cell_type": "code",
   "execution_count": 2,
   "metadata": {
    "tags": []
   },
   "outputs": [
    {
     "data": {
      "application/vnd.jupyter.widget-view+json": {
       "model_id": "6ee0045488ae4c9299d9a497445cb0d3",
       "version_major": 2,
       "version_minor": 0
      },
      "text/plain": [
       "HBox(children=(FloatProgress(value=0.0, description='Parsing', max=860001.0, style=ProgressStyle(description_w…"
      ]
     },
     "metadata": {},
     "output_type": "display_data"
    },
    {
     "name": "stdout",
     "output_type": "stream",
     "text": [
      "\n"
     ]
    },
    {
     "data": {
      "application/vnd.jupyter.widget-view+json": {
       "model_id": "3538396b1c64430681ab31784c4c73a6",
       "version_major": 2,
       "version_minor": 0
      },
      "text/plain": [
       "HBox(children=(FloatProgress(value=0.0, description='Saving', max=117266.0, style=ProgressStyle(description_wi…"
      ]
     },
     "metadata": {},
     "output_type": "display_data"
    },
    {
     "name": "stdout",
     "output_type": "stream",
     "text": [
      "\n"
     ]
    }
   ],
   "source": [
    "import json\n",
    "from collections import OrderedDict\n",
    "from tqdm.notebook import tqdm\n",
    "\n",
    "coco = json.load(open(instances_path))\n",
    "images = coco[\"images\"]\n",
    "annotations = coco[\"annotations\"]\n",
    "categories = coco[\"categories\"]\n",
    "replaced_name = {\n",
    "    \"couch\": \"sofa\",\n",
    "    \"airplane\": \"aeroplane\",\n",
    "    \"tv\": \"tvmonitor\",\n",
    "    \"motorcycle\": \"motorbike\",\n",
    "}\n",
    "\n",
    "class_to_id = {}\n",
    "id_to_class = {}\n",
    "with open(names_path, \"r\") as fd:\n",
    "    index = 0\n",
    "    for class_name in fd:\n",
    "        class_name = class_name.strip()\n",
    "        if len(class_name) != 0:\n",
    "            id_to_class[index] = class_name\n",
    "            class_to_id[class_name] = index\n",
    "            index += 1\n",
    "\n",
    "dataset = {}\n",
    "\n",
    "for annotation in tqdm(annotations, desc=\"Parsing\"):\n",
    "    image_id = annotation[\"image_id\"]\n",
    "    category_id = annotation[\"category_id\"]\n",
    "\n",
    "    file_name = None\n",
    "    image_height = 0\n",
    "    image_width = 0\n",
    "    for image in images:\n",
    "        if image[\"id\"] == image_id:\n",
    "            file_name = image[\"file_name\"]\n",
    "            image_height = image[\"height\"]\n",
    "            image_width = image[\"width\"]\n",
    "            break\n",
    "\n",
    "    if file_name is None:\n",
    "        continue\n",
    "\n",
    "    class_id = None\n",
    "    for category in categories:\n",
    "        if category[\"id\"] == category_id:\n",
    "            category_name = category[\"name\"]\n",
    "            if category_name in replaced_name.keys():\n",
    "                category_name = replaced_name[category_name]\n",
    "\n",
    "            class_id = class_to_id.get(category_name)\n",
    "            break\n",
    "\n",
    "    if class_id is None:\n",
    "        continue\n",
    "\n",
    "    x_center = annotation[\"bbox\"][0] + annotation[\"bbox\"][2] / 2\n",
    "    x_center /= image_width\n",
    "    y_center = annotation[\"bbox\"][1] + annotation[\"bbox\"][3] / 2\n",
    "    y_center /= image_height\n",
    "    width = annotation[\"bbox\"][2] / image_width\n",
    "    height = annotation[\"bbox\"][3] / image_height\n",
    "\n",
    "    if dataset.get(image_id):\n",
    "        dataset[image_id][1].append(\n",
    "            [class_id, x_center, y_center, width, height]\n",
    "        )\n",
    "    else:\n",
    "        dataset[image_id] = [\n",
    "            file_name,\n",
    "            [[class_id, x_center, y_center, width, height]],\n",
    "        ]\n",
    "\n",
    "dataset = OrderedDict(sorted(dataset.items()))\n",
    "\n",
    "with open(output_file_path, \"w\") as fd:\n",
    "    for image_id, bboxes in tqdm(dataset.items(), desc=\"Saving\"):\n",
    "        data = bboxes[0]\n",
    "        for bbox in bboxes[1]:\n",
    "            data += \" \"\n",
    "            data += \"{:d},\".format(bbox[0])\n",
    "            data += \"{:8.6f},\".format(bbox[1])\n",
    "            data += \"{:8.6f},\".format(bbox[2])\n",
    "            data += \"{:8.6f},\".format(bbox[3])\n",
    "            data += \"{:8.6f}\".format(bbox[4])\n",
    "\n",
    "        data += \"\\n\"\n",
    "        fd.write(data)"
   ]
  }
 ],
 "metadata": {
  "kernelspec": {
   "display_name": "Python [conda env:tf_gpu] *",
   "language": "python",
   "name": "conda-env-tf_gpu-py"
  },
  "language_info": {
   "codemirror_mode": {
    "name": "ipython",
    "version": 3
   },
   "file_extension": ".py",
   "mimetype": "text/x-python",
   "name": "python",
   "nbconvert_exporter": "python",
   "pygments_lexer": "ipython3",
   "version": "3.7.7"
  },
  "varInspector": {
   "cols": {
    "lenName": 16,
    "lenType": 16,
    "lenVar": 40
   },
   "kernels_config": {
    "python": {
     "delete_cmd_postfix": "",
     "delete_cmd_prefix": "del ",
     "library": "var_list.py",
     "varRefreshCmd": "print(var_dic_list())"
    },
    "r": {
     "delete_cmd_postfix": ") ",
     "delete_cmd_prefix": "rm(",
     "library": "var_list.r",
     "varRefreshCmd": "cat(var_dic_list()) "
    }
   },
   "types_to_exclude": [
    "module",
    "function",
    "builtin_function_or_method",
    "instance",
    "_Feature"
   ],
   "window_display": false
  }
 },
 "nbformat": 4,
 "nbformat_minor": 2
}
