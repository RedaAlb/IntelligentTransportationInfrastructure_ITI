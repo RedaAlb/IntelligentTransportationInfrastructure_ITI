{
 "metadata": {
  "language_info": {
   "codemirror_mode": {
    "name": "ipython",
    "version": 3
   },
   "file_extension": ".py",
   "mimetype": "text/x-python",
   "name": "python",
   "nbconvert_exporter": "python",
   "pygments_lexer": "ipython3",
   "version": "3.7.8-final"
  },
  "orig_nbformat": 2,
  "kernelspec": {
   "name": "python_defaultSpec_1598092455045",
   "display_name": "Python 3.7.8 64-bit ('venv': venv)"
  }
 },
 "nbformat": 4,
 "nbformat_minor": 2,
 "cells": [
  {
   "cell_type": "markdown",
   "metadata": {},
   "source": [
    "- 2020-08-22\n",
    "- OS: Ubuntu 18.04\n",
    "- TF: 2.2.0\n",
    "- yolov4: 1.2.0\n",
    "- edgetpu_compiler: 14.1.317412892"
   ]
  },
  {
   "cell_type": "code",
   "execution_count": 1,
   "metadata": {},
   "outputs": [],
   "source": [
    "from yolov4.tf import YOLOv4\n",
    "\n",
    "yolo = YOLOv4(tiny=True, tpu=True)\n",
    "\n",
    "yolo.classes = \"dataset/coco.names\"\n",
    "\n",
    "yolo.make_model(activation1=\"relu\")\n",
    "yolo.load_weights(\"yolov4-tiny-relu.weights\", weights_type=\"yolo\")\n",
    "\n",
    "dataset = yolo.load_dataset(\n",
    "    \"dataset/train2017.txt\",\n",
    "    training=False,\n",
    "    image_path_prefix=r\"D:\\coco\\train2017\"\n",
    ")\n",
    "\n",
    "yolo.save_as_tflite(\n",
    "    \"yolov4-tiny-relu.tflite\",\n",
    "    quantization=\"full_int8\",\n",
    "    data_set=dataset,\n",
    "    num_calibration_steps=500\n",
    ")"
   ]
  },
  {
   "cell_type": "code",
   "execution_count": 2,
   "metadata": {
    "tags": []
   },
   "outputs": [
    {
     "output_type": "stream",
     "name": "stdout",
     "text": "Edge TPU Compiler version 14.1.317412892\n\nModel compiled successfully in 1094 ms.\n\nInput model: test/yolov4-tiny-relu.tflite\nInput size: 5.96MiB\nOutput model: yolov4-tiny-relu_edgetpu.tflite\nOutput size: 6.19MiB\nOn-chip memory used for caching model parameters: 5.92MiB\nOn-chip memory remaining for caching model parameters: 208.25KiB\nOff-chip memory used for streaming uncached model parameters: 0.00B\nNumber of Edge TPU subgraphs: 1\nTotal number of operations: 149\nOperation log: yolov4-tiny-relu_edgetpu.log\n\nModel successfully compiled but not all operations are supported by the Edge TPU. A percentage of the model will instead run on the CPU, which is slower. If possible, consider updating your model to use only operations supported by the Edge TPU. For details, visit g.co/coral/model-reqs.\nNumber of operations that will run on Edge TPU: 50\nNumber of operations that will run on CPU: 99\nSee the operation log file for individual operation details.\n"
    }
   ],
   "source": [
    "!edgetpu_compiler yolov4-tiny-relu.tflite"
   ]
  },
  {
   "cell_type": "code",
   "execution_count": 3,
   "metadata": {},
   "outputs": [
    {
     "output_type": "stream",
     "name": "stdout",
     "text": "Edge TPU Compiler version 14.1.317412892\nInput: test/yolov4-tiny-relu.tflite\nOutput: yolov4-tiny-relu_edgetpu.tflite\n\nOperator                       Count      Status\n\nSPLIT_V                        12         Operation is working on an unsupported data type\nMUL                            18         More than one subgraph is not supported\nSUB                            6          More than one subgraph is not supported\nLOGISTIC                       2          Mapped to Edge TPU\nSPLIT                          7          Mapped to Edge TPU\nCONCATENATION                  7          Mapped to Edge TPU\nCONCATENATION                  2          More than one subgraph is not supported\nRESIZE_BILINEAR                1          Mapped to Edge TPU\nDEQUANTIZE                     14         Operation is working on an unsupported data type\nCONV_2D                        21         Mapped to Edge TPU\nQUANTIZE                       7          Mapped to Edge TPU\nQUANTIZE                       16         More than one subgraph is not supported\nQUANTIZE                       19         Operation is otherwise supported, but not mapped due to some unspecified limitation\nMAX_POOL_2D                    3          Mapped to Edge TPU\nADD                            6          More than one subgraph is not supported\nPAD                            2          Mapped to Edge TPU\nEXP                            6          Operation is working on an unsupported data type\n"
    }
   ],
   "source": [
    "!cat yolov4-tiny-relu_edgetpu.log"
   ]
  },
  {
   "cell_type": "markdown",
   "metadata": {},
   "source": [
    "- 2020-08-22\n",
    "- HW: Coral Dev Board\n",
    "- OS: Mendel\n",
    "- tflite_runtime: 2.1.0.post1\n",
    "- yolov4: 1.2.0"
   ]
  },
  {
   "cell_type": "code",
   "execution_count": null,
   "metadata": {},
   "outputs": [],
   "source": [
    "from yolov4.tflite import YOLOv4\n",
    "import cv2\n",
    "\n",
    "yolo = YOLOv4(tiny=True, tpu=True)\n",
    "\n",
    "yolo.classes = \"coco.names\"\n",
    "\n",
    "yolo.load_tflite(\"yolov4-tiny-relu_edgetpu.tflite\")\n",
    "\n",
    "yolo.inference(\n",
    "    \"/dev/video1\",\n",
    "    is_image=False,\n",
    "    cv_apiPreference=cv2.CAP_V4L2,\n",
    "    cv_frame_size=(640, 480),\n",
    "    cv_fourcc=\"YUYV\"\n",
    ")"
   ]
  }
 ]
}